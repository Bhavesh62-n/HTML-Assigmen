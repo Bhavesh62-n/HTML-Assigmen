{
  "nbformat": 4,
  "nbformat_minor": 0,
  "metadata": {
    "colab": {
      "provenance": []
    },
    "kernelspec": {
      "name": "python3",
      "display_name": "Python 3"
    },
    "language_info": {
      "name": "python"
    }
  },
  "cells": [
    {
      "cell_type": "markdown",
      "source": [
        "1. Simple HTML Program Displaying a Heading:\n",
        "\n",
        " => To create a basic HTML page with a heading, you can use the following code:\n",
        ""
      ],
      "metadata": {
        "id": "Q6EnylBsoQiS"
      }
    },
    {
      "cell_type": "code",
      "source": [
        "<!DOCTYPE html>\n",
        "<html lang=\"en\">\n",
        "<head>\n",
        "    <meta charset=\"UTF-8\">\n",
        "    <meta name=\"viewport\" content=\"width=device-width, initial-scale=1.0\">\n",
        "    <title>Simple Heading</title>\n",
        "</head>\n",
        "<body>\n",
        "    <h1>HTML defines the content and structure of your website</h1>\n",
        "</body>\n",
        "</html>\n",
        "\n"
      ],
      "metadata": {
        "id": "5TfPyki7ouus"
      },
      "execution_count": null,
      "outputs": []
    },
    {
      "cell_type": "markdown",
      "source": [
        "This code displays the heading \"HTML defines the content and structure of your website\" on the web browser.\n"
      ],
      "metadata": {
        "id": "qvmy_V12o4GF"
      }
    },
    {
      "cell_type": "markdown",
      "source": [
        "2. Purpose of Comments in HTML & Example:\n",
        "Purpose of Comments in HTML:\n",
        "\n",
        "Comments in HTML are used to explain and clarify the code. They are not displayed in the web browser. Comments help developers leave notes, reminders, or explanations for themselves or other developers working on the same project.\n",
        "\n",
        "Example:"
      ],
      "metadata": {
        "id": "sP8sIXsNpDLo"
      }
    },
    {
      "cell_type": "code",
      "source": [
        "<p>This paragraph will appear on the page, but the comment above won't.</p>\n"
      ],
      "metadata": {
        "id": "Ji1qA_kZpIij"
      },
      "execution_count": null,
      "outputs": []
    },
    {
      "cell_type": "markdown",
      "source": [
        "3. HTML Program with Heading, Paragraph, Horizontal Line, and Line Break:\n",
        "html\n",
        "Copy code\n"
      ],
      "metadata": {
        "id": "UeyTAkpbreJc"
      }
    },
    {
      "cell_type": "code",
      "source": [
        "<!DOCTYPE html>\n",
        "<html lang=\"en\">\n",
        "<head>\n",
        "    <meta charset=\"UTF-8\">\n",
        "    <meta name=\"viewport\" content=\"width=device-width, initial-scale=1.0\">\n",
        "    <title>Simple Layout</title>\n",
        "</head>\n",
        "<body>\n",
        "    <h1>Welcome to My Web Page</h1>\n",
        "    <p>This is a paragraph of text that introduces the content of the webpage.</p>\n",
        "    <hr> <!-- Horizontal Line -->\n",
        "    <p>Here's another paragraph of text after a horizontal line.</p>\n",
        "    <br> <!-- Line Break -->\n",
        "    <p>This paragraph comes after a line break, which creates extra space.</p>\n",
        "</body>\n",
        "</html>\n"
      ],
      "metadata": {
        "id": "3_C8XyeZrig7"
      },
      "execution_count": null,
      "outputs": []
    },
    {
      "cell_type": "code",
      "source": [
        "In this code:\n",
        "\n",
        "<h1> creates a heading.\n",
        "\n",
        "<p> creates paragraphs of text.\n",
        "\n",
        "<hr> adds a horizontal line.\n",
        "\n",
        "<br> creates a line break, pushing the content below."
      ],
      "metadata": {
        "id": "tWJvLwQPrnnF"
      },
      "execution_count": null,
      "outputs": []
    },
    {
      "cell_type": "markdown",
      "source": [
        "4. Short Note on Tag and Element with an Example:\n",
        "Tag: A tag is a markup code used to define elements in HTML. Tags usually come in pairs: an opening tag and a closing tag.\n",
        "\n",
        "Element: An element is a complete structure that consists of a tag, its content, and the closing tag. For example, the <p> tag is used to define a paragraph element.\n",
        "\n",
        "Example:"
      ],
      "metadata": {
        "id": "nSzbEsJNrBtq"
      }
    },
    {
      "cell_type": "code",
      "source": [
        "<p>This is a paragraph element.</p>\n"
      ],
      "metadata": {
        "id": "EHiKOEzTrDod"
      },
      "execution_count": null,
      "outputs": []
    },
    {
      "cell_type": "code",
      "source": [
        "In the example:\n",
        "\n",
        "<p> is the opening tag.\n",
        "\n",
        "This is a paragraph element. is the content.\n",
        "\n",
        "</p> is the closing tag. Thus, the entire <p>...</p> structure is an element."
      ],
      "metadata": {
        "id": "GQKtBDB9rM3L"
      },
      "execution_count": null,
      "outputs": []
    },
    {
      "cell_type": "markdown",
      "source": [
        "5. What is the DOCTYPE Declaration in HTML:\n",
        "The <!DOCTYPE html> declaration is used at the beginning of an HTML document to define the version of HTML being used. It helps the browser understand how to render the page properly.\n",
        "\n",
        "In modern web development, the <!DOCTYPE html> declaration is used for HTML5. It indicates that the document should be treated as an HTML5 document, ensuring proper compatibility with modern web standards.\n",
        "\n",
        "Example:"
      ],
      "metadata": {
        "id": "8bFHSXoyqO3U"
      }
    },
    {
      "cell_type": "code",
      "source": [
        "<!DOCTYPE html>\n",
        "<html lang=\"en\">\n",
        "<head>\n",
        "    <meta charset=\"UTF-8\">\n",
        "    <meta name=\"viewport\" content=\"width=device-width, initial-scale=1.0\">\n",
        "    <title>DOCTYPE Declaration</title>\n",
        "</head>\n",
        "<body>\n",
        "    <h1>This page uses HTML5 DOCTYPE</h1>\n",
        "</body>\n",
        "</html>\n"
      ],
      "metadata": {
        "id": "JAgKjIc-qSiw"
      },
      "execution_count": null,
      "outputs": []
    },
    {
      "cell_type": "markdown",
      "source": [
        "The <!DOCTYPE html> tells the browser to render the page according to HTML5 specifications."
      ],
      "metadata": {
        "id": "yb8PDY3wqX5n"
      }
    }
  ]
}